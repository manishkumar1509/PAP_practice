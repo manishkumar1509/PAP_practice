{
 "cells": [
  {
   "cell_type": "code",
   "execution_count": 1,
   "metadata": {},
   "outputs": [
    {
     "name": "stdout",
     "output_type": "stream",
     "text": [
      "enter 2 no.s:\n",
      "34\n",
      "5\n",
      "quotient: 6\n",
      "remainder: 4\n"
     ]
    }
   ],
   "source": [
    "def solve(a,b):\n",
    "    q=a//b\n",
    "    r=a%b\n",
    "    return q,r\n",
    "\n",
    "print(\"enter 2 no.s:\")\n",
    "a=int(input())\n",
    "b=int(input())\n",
    "q,r=solve(a,b)\n",
    "print(\"quotient:\",q)\n",
    "print(\"remainder:\",r)"
   ]
  },
  {
   "cell_type": "code",
   "execution_count": 2,
   "metadata": {},
   "outputs": [
    {
     "data": {
      "text/plain": [
       "7"
      ]
     },
     "execution_count": 2,
     "metadata": {},
     "output_type": "execute_result"
    }
   ],
   "source": [
    "-11%9"
   ]
  },
  {
   "cell_type": "code",
   "execution_count": 3,
   "metadata": {},
   "outputs": [
    {
     "data": {
      "text/plain": [
       "1.0"
      ]
     },
     "execution_count": 3,
     "metadata": {},
     "output_type": "execute_result"
    }
   ],
   "source": [
    "7.7//7"
   ]
  },
  {
   "cell_type": "code",
   "execution_count": 4,
   "metadata": {},
   "outputs": [
    {
     "data": {
      "text/plain": [
       "260.0"
      ]
     },
     "execution_count": 4,
     "metadata": {},
     "output_type": "execute_result"
    }
   ],
   "source": [
    "(200-70)*10/5"
   ]
  },
  {
   "cell_type": "code",
   "execution_count": 11,
   "metadata": {},
   "outputs": [
    {
     "data": {
      "text/plain": [
       "False"
      ]
     },
     "execution_count": 11,
     "metadata": {},
     "output_type": "execute_result"
    }
   ],
   "source": [
    "not \"False\""
   ]
  },
  {
   "cell_type": "code",
   "execution_count": 6,
   "metadata": {},
   "outputs": [
    {
     "data": {
      "text/plain": [
       "5"
      ]
     },
     "execution_count": 6,
     "metadata": {},
     "output_type": "execute_result"
    }
   ],
   "source": [
    "5*1**2"
   ]
  },
  {
   "cell_type": "code",
   "execution_count": 12,
   "metadata": {},
   "outputs": [
    {
     "name": "stdout",
     "output_type": "stream",
     "text": [
      "enter a no\n",
      "5\n",
      "1025\n"
     ]
    }
   ],
   "source": [
    "#fn=2^2n +1\n",
    "print(\"enter a no\")\n",
    "n=int(input())\n",
    "f=2**(2*n)+1\n",
    "print(f)"
   ]
  },
  {
   "cell_type": "code",
   "execution_count": 13,
   "metadata": {},
   "outputs": [
    {
     "data": {
      "text/plain": [
       "False"
      ]
     },
     "execution_count": 13,
     "metadata": {},
     "output_type": "execute_result"
    }
   ],
   "source": [
    "s=\"Hello\"\n",
    "s.isupper()"
   ]
  },
  {
   "cell_type": "code",
   "execution_count": 16,
   "metadata": {},
   "outputs": [
    {
     "name": "stdout",
     "output_type": "stream",
     "text": [
      "enter a limit\n",
      "6\n",
      "0 \t\n",
      "1 \t\n",
      "1 \t\n",
      "2 \t\n",
      "3 \t\n",
      "5 \t\n"
     ]
    }
   ],
   "source": [
    "#fibonacci till n limit\n",
    "def fibonacci(n):\n",
    "    a=0\n",
    "    b=1\n",
    "    c=0\n",
    "    while(c<=n):\n",
    "        print(c,\"\\t\")\n",
    "        a=b\n",
    "        b=c\n",
    "        c=a+b\n",
    "        \n",
    "print(\"enter a limit\")\n",
    "n=int(input())\n",
    "fibonacci(n)\n",
    "        "
   ]
  },
  {
   "cell_type": "code",
   "execution_count": 18,
   "metadata": {},
   "outputs": [
    {
     "name": "stdout",
     "output_type": "stream",
     "text": [
      "enter a natural no limit\n",
      "5\n",
      "sum: 6\n"
     ]
    }
   ],
   "source": [
    "#sum of only even no.s in a range\n",
    "print(\"enter a natural no limit\")\n",
    "n=int(input())\n",
    "sum=0\n",
    "for i in range(n):\n",
    "    if i%2==0:\n",
    "        sum=sum+i\n",
    "print(\"sum:\",sum)"
   ]
  },
  {
   "cell_type": "code",
   "execution_count": 26,
   "metadata": {},
   "outputs": [
    {
     "name": "stdout",
     "output_type": "stream",
     "text": [
      "enter the main string\n",
      "manish\n",
      "enter the sub string\n",
      "man\n",
      "present\n"
     ]
    }
   ],
   "source": [
    "print(\"enter the main string\")\n",
    "str=input()\n",
    "print(\"enter the sub string\")\n",
    "s=input()\n",
    "if(str.find(s)>=0):\n",
    "    print(\"present\")\n",
    "else:\n",
    "    print(\"not present\")"
   ]
  },
  {
   "cell_type": "code",
   "execution_count": 27,
   "metadata": {},
   "outputs": [],
   "source": [
    "#computational fault copying lines starting with vowels\n",
    "try:\n",
    "    fhand1=open(\"FROM.txt\",'r')\n",
    "    fhand2=open(\"VOWEL.txt\",'w')\n",
    "except:\n",
    "    print(\"error in opening file\")\n",
    "    exit()\n",
    "for i in fhand1:\n",
    "    if i.startswith(\"A\") or i.startswith(\"E\") or i.startswith(\"I\") or i.startswith(\"O\") or i.startswith(\"U\") or i.startswith(\"a\") or i.startswith(\"e\") or i.startswith(\"i\") or i.startswith(\"o\") or i.startswith(\"u\"):\n",
    "        fhand2.write(i)\n",
    "fhand1.close()\n",
    "fhand2.close()"
   ]
  },
  {
   "cell_type": "code",
   "execution_count": 41,
   "metadata": {},
   "outputs": [
    {
     "name": "stdout",
     "output_type": "stream",
     "text": [
      "enter a string\n",
      "Build Web Services and introduction to Network and Database Programmingin Python.\n",
      "['Build', 'Web', 'Services', 'and', 'introduction', 'to', 'Network', 'and', 'Database', 'Programmingin', 'Python.']\n",
      "Programmingin   11\n"
     ]
    }
   ],
   "source": [
    "#longest word of a sentence along with its length\n",
    "print(\"enter a string\")\n",
    "str=input()\n",
    "d=list()\n",
    "d=str.split()\n",
    "print(d)\n",
    "maxm=0\n",
    "for i in d:\n",
    "    if len(i)>maxm:\n",
    "        maxm=len(d)\n",
    "        res=i\n",
    "\n",
    "print(res,\" \",maxm)"
   ]
  },
  {
   "cell_type": "code",
   "execution_count": 47,
   "metadata": {},
   "outputs": [
    {
     "name": "stdout",
     "output_type": "stream",
     "text": [
      "shines\n"
     ]
    }
   ],
   "source": [
    "str=\"make hay while the sun shines\"\n",
    "print(str[-6:])"
   ]
  },
  {
   "cell_type": "code",
   "execution_count": 50,
   "metadata": {},
   "outputs": [
    {
     "name": "stdout",
     "output_type": "stream",
     "text": [
      "enter the value of n\n",
      "4\n",
      "Learn Syntax and Semantics and create Functions in Python.\n",
      " \t\n",
      "Handle Strings and Files in Python.\n",
      " \t\n",
      "Understand Lists, Dictionaries and Regular expressions in Python.\n",
      " \t\n",
      "Implement Object Oriented Programming concepts in Python\n",
      " \t\n"
     ]
    }
   ],
   "source": [
    "#print first n lines of a files\n",
    "f=open(\"FROM.txt\",'r')\n",
    "print(\"enter the value of n\")\n",
    "n=int(input())\n",
    "c=1\n",
    "for i in f:\n",
    "    if c<=n:\n",
    "        print(i,'\\t')\n",
    "    c+=1"
   ]
  },
  {
   "cell_type": "code",
   "execution_count": 53,
   "metadata": {},
   "outputs": [
    {
     "name": "stdout",
     "output_type": "stream",
     "text": [
      "enter the string\n",
      "and\n",
      "frequency: 6\n"
     ]
    }
   ],
   "source": [
    "#frequency of a word in a file\n",
    "f=open(\"FROM.txt\",'r')\n",
    "print(\"enter the string\")\n",
    "str=input()\n",
    "c=0;\n",
    "for i in f:\n",
    "    l=list()\n",
    "    l=i.split()\n",
    "    for j in l:\n",
    "        if j==str:\n",
    "            c+=1\n",
    "print(\"frequency:\",c)"
   ]
  },
  {
   "cell_type": "code",
   "execution_count": 57,
   "metadata": {},
   "outputs": [
    {
     "name": "stdout",
     "output_type": "stream",
     "text": [
      "enter the file name:\n",
      "email.txt\n",
      "['manishmdx@gmail.com', 'anish@yahoo.com']\n",
      "['manoj@redif.com']\n",
      "['aakash@hotmail.com']\n",
      "['manish@gmail.com']\n"
     ]
    }
   ],
   "source": [
    "#extract all emaild addresses in a file\n",
    "import re\n",
    "print(\"enter the file name:\")\n",
    "file=input()\n",
    "fhand=open(file)\n",
    "for line in fhand:\n",
    "    ls=re.findall('\\S+@\\S+',line)\n",
    "    if len(ls)>0:\n",
    "        print(ls)\n",
    "fhand.close()"
   ]
  },
  {
   "cell_type": "code",
   "execution_count": 58,
   "metadata": {},
   "outputs": [
    {
     "name": "stdout",
     "output_type": "stream",
     "text": [
      "enter the value of n:\n",
      "5\n",
      "enter n no.s\n",
      "1\n",
      "2\n",
      "3\n",
      "4\n",
      "5\n",
      "average: 3.0\n"
     ]
    }
   ],
   "source": [
    "#program using lists to display average of n numbers taken from user\n",
    "print(\"enter the value of n:\")\n",
    "n=int(input())\n",
    "l=list()\n",
    "s=0\n",
    "c=0\n",
    "print(\"enter n no.s\")\n",
    "for i in range(n):\n",
    "    a=int(input())\n",
    "    l.append(a)\n",
    "\n",
    "for i in l:\n",
    "    s+=i\n",
    "    c+=1\n",
    "\n",
    "avg=s/c\n",
    "print(\"average:\",avg)\n",
    "    "
   ]
  },
  {
   "cell_type": "code",
   "execution_count": 60,
   "metadata": {},
   "outputs": [
    {
     "name": "stdout",
     "output_type": "stream",
     "text": [
      "enter the file name:\n",
      "FROM.txt\n",
      "From 12: Learn Syntax and Semantics and create Functions in Python.\n",
      "\n",
      "12\n",
      "From 23: Understand Lists, Dictionaries and Regular expressions in Python.\n",
      "\n",
      "23\n",
      "From 00: Build Web Services and introduction to Network and Database Programmingin\n",
      "\n"
     ]
    }
   ],
   "source": [
    "#june 6c\n",
    "import re\n",
    "print(\"enter the file name:\")\n",
    "file=input()\n",
    "fhand=open(file)\n",
    "for line in fhand:\n",
    "    if(re.search('^From.[0-9][0-9]:',line)):\n",
    "        print(line)\n",
    "        s=line[5:7]\n",
    "        k=int(s)\n",
    "        if k>0:\n",
    "            print(k)\n",
    "\n",
    "fhand.close()\n"
   ]
  },
  {
   "cell_type": "code",
   "execution_count": 64,
   "metadata": {},
   "outputs": [
    {
     "name": "stdout",
     "output_type": "stream",
     "text": [
      "enter the value of n\n",
      "4\n",
      "enter usn and marks:\n",
      "1pe\n",
      "56\n",
      "2pe\n",
      "78\n",
      "3pe\n",
      "90\n",
      "4pe\n",
      "77\n",
      "maximum marks and usn: 90   3pe\n",
      "minimum marks and usn: 56   1pe\n",
      "students scoring over 85-100\n",
      "4pe   77\n"
     ]
    }
   ],
   "source": [
    "#jan 5b\n",
    "d={}\n",
    "print(\"enter the value of n\")\n",
    "n=int(input())\n",
    "print(\"enter usn and marks:\")\n",
    "maxm=0\n",
    "maxusn=''\n",
    "minusn=''\n",
    "minm=100\n",
    "for i in range(n):\n",
    "    usn=input()\n",
    "    marks=int(input())\n",
    "    d[usn]=marks\n",
    "    if marks>maxm:\n",
    "        maxm=marks\n",
    "        maxusn=usn\n",
    "    if marks<minm:\n",
    "        minm=marks\n",
    "        minusn=usn\n",
    "print(\"maximum marks and usn:\",maxm,\" \", maxusn)\n",
    "print(\"minimum marks and usn:\",minm,\" \",minusn)\n",
    "\n",
    "print(\"students scoring over 85-100\")\n",
    "for k,v in d.items():\n",
    "    if v<=100 and v>=85:\n",
    "        print(usn,\" \", marks)\n",
    "        \n",
    "    "
   ]
  },
  {
   "cell_type": "code",
   "execution_count": 13,
   "metadata": {},
   "outputs": [
    {
     "data": {
      "text/plain": [
       "(0, 2, 4, 9, 3, 4)"
      ]
     },
     "execution_count": 13,
     "metadata": {},
     "output_type": "execute_result"
    }
   ],
   "source": [
    "#sum of two tupes\n",
    "t1=(0,2,4)\n",
    "t2=(9,3,4)\n",
    "t3=t1+t2\n",
    "t3"
   ]
  },
  {
   "cell_type": "code",
   "execution_count": 74,
   "metadata": {},
   "outputs": [
    {
     "name": "stdout",
     "output_type": "stream",
     "text": [
      "Enter First point:\n",
      "x coordinate:2\n",
      "y coordinate:3\n",
      "Enter Second point:\n",
      "x coordinate:4\n",
      "y coordinate:5\n",
      "First point is:\n",
      "(2,3)\n",
      "Second point is:\n",
      "(4,5)\n",
      "Distance is: 2.82843\n"
     ]
    }
   ],
   "source": [
    "import math\n",
    "class Point:\n",
    "    \"\"\" This is a class Point representing a coordinate point\"\"\" \n",
    "    def read_point(p): \n",
    "        p.x=float(input(\"x coordinate:\")) \n",
    "        p.y=float(input(\"y coordinate:\")) \n",
    "        \n",
    "    def print_point(p): \n",
    "        print(\"(%g,%g)\"%(p.x, p.y)) \n",
    "        \n",
    "def distance(p1,p2): \n",
    "        d=math.sqrt((p1.x-p2.x)**2+(p1.y-p2.y)**2) \n",
    "        return d \n",
    "    \n",
    "p1=Point()  #create first object \n",
    "print(\"Enter First point:\") \n",
    "p1.read_point() #read x and y for p1 \n",
    "    \n",
    "p2=Point() #create second object \n",
    "print(\"Enter Second point:\") \n",
    "p2.read_point() #read x and y for p2 \n",
    "    \n",
    "dist=distance(p1,p2) #compute distance \n",
    "    \n",
    "print(\"First point is:\") \n",
    "p1.print_point() #print p1 \n",
    "    \n",
    "print(\"Second point is:\") \n",
    "p2.print_point() #print p2 \n",
    "    \n",
    "print(\"Distance is: %g\" %(distance(p1,p2))) #print d"
   ]
  },
  {
   "cell_type": "code",
   "execution_count": 2,
   "metadata": {},
   "outputs": [
    {
     "name": "stdout",
     "output_type": "stream",
     "text": [
      "enter 4 corner co-ordinates of a rectangle:\n",
      "1\n",
      "2\n",
      "4\n",
      "2\n",
      "4\n",
      "6\n",
      "1\n",
      "6\n",
      "12.0\n",
      "14.0\n",
      "2.5   4.0\n"
     ]
    }
   ],
   "source": [
    "import math\n",
    "class Point:\n",
    "    def __init__(self,a,b):\n",
    "        self.x=a\n",
    "        self.y=b\n",
    "\n",
    "class Rectangle:\n",
    "    cornerx=0\n",
    "    cornery=0\n",
    "    height=0\n",
    "    width=0\n",
    "    def area(self,h,w):\n",
    "        return (h*w)\n",
    "\n",
    "    def perimeter(self,h,w):\n",
    "        return (2*(h+w))\n",
    "\n",
    "    def centre(self,p1,p2,p3,p4):\n",
    "        centre=Point(0,0)\n",
    "        centre.x=(p1.x + p2.x)/2\n",
    "        centre.y=(p1.y + p4.y)/2\n",
    "        return (centre)\n",
    "\n",
    "def distance(p1,p2):\n",
    "    d=math.sqrt((p1.x-p2.x)**2 + (p2.y-p1.y)**2)\n",
    "    return d\n",
    "    \n",
    "print(\"enter 4 corner co-ordinates of a rectangle:\")\n",
    "l=list()\n",
    "for i in range(4):\n",
    "    a=int(input())\n",
    "    b=int(input())\n",
    "    l.append([a,b])\n",
    "\n",
    "p1=Point(l[0][0],l[0][1])\n",
    "p2=Point(l[1][0],l[1][1])\n",
    "p3=Point(l[2][0],l[2][1])\n",
    "p4=Point(l[3][0],l[3][1])\n",
    "\n",
    "r1=Rectangle()\n",
    "h=distance(p1,p4)\n",
    "w=distance(p1,p2)\n",
    "area=r1.area(h,w)\n",
    "per=r1.perimeter(h,w)\n",
    "centre=Point(0,0)\n",
    "centre=r1.centre(p1,p2,p3,p4)\n",
    "print(area)\n",
    "print(per)\n",
    "print(centre.x,\" \",centre.y)\n"
   ]
  },
  {
   "cell_type": "code",
   "execution_count": 12,
   "metadata": {},
   "outputs": [
    {
     "name": "stdout",
     "output_type": "stream",
     "text": [
      "P1 is 2,6\n"
     ]
    }
   ],
   "source": [
    "#june 8c  _str_() method\n",
    "class Point:\n",
    "    def __init__(self,a,b):\n",
    "        self.x=a\n",
    "        self.y=b\n",
    "    def __str__(self):\n",
    "        return '%d,%d'%(self.x,self.y)\n",
    "        \n",
    "P1=Point(2,6)\n",
    "print(\"P1 is\",P1)"
   ]
  },
  {
   "cell_type": "code",
   "execution_count": 44,
   "metadata": {},
   "outputs": [
    {
     "name": "stdout",
     "output_type": "stream",
     "text": [
      "2019-07-02 18:33:07.705106\n",
      "tuesday\n"
     ]
    }
   ],
   "source": [
    "#Jun 7b\n",
    "import datetime\n",
    "x=datetime.datetime.now()\n",
    "print(x)\n",
    "x=x.day\n",
    "if x==1: print(\"monday\")\n",
    "elif x==2: print(\"tuesday\")\n",
    "elif x==3: print(\"wednesday\")\n",
    "elif x==4: print(\"thursday\")\n",
    "elif x==5: print(\"friday\")\n",
    "elif x==6: print(\"saturday\")\n",
    "else:print(\"sunday\")\n"
   ]
  },
  {
   "cell_type": "code",
   "execution_count": 49,
   "metadata": {},
   "outputs": [
    {
     "name": "stdout",
     "output_type": "stream",
     "text": [
      "P1 is: (10,20)\n",
      "P2 is: (4,5)\n",
      "Sum is: (14,25)\n"
     ]
    }
   ],
   "source": [
    "#june 7c Jan 8a\n",
    "class Point:\n",
    "    def __init__ (self,a=0,b=0):\n",
    "        self.x=a \n",
    "        self.y=b \n",
    "    \n",
    "    def __add__(self, p2): \n",
    "        p3=Point() \n",
    "        p3.x=self.x+p2.x \n",
    "        p3.y=self.y+p2.y \n",
    "        return p3 \n",
    "    \n",
    "    def __str__(self): \n",
    "        return '(%d,%d)'%(self.x,self.y) \n",
    "\n",
    "p1=Point(10,20) \n",
    "p2=Point(4,5) \n",
    "print(\"P1 is:\",p1) \n",
    "print(\"P2 is:\",p2) \n",
    "p4=p1+p2 #call for add () method \n",
    "print(\"Sum is:\",p4)"
   ]
  },
  {
   "cell_type": "code",
   "execution_count": 55,
   "metadata": {},
   "outputs": [
    {
     "name": "stdout",
     "output_type": "stream",
     "text": [
      "enter start hours and minutes:\n",
      "04\n",
      "23\n",
      "enter end hours and minutes:\n",
      "09\n",
      "12\n",
      "5   35\n"
     ]
    }
   ],
   "source": [
    "#jan 8b\n",
    "class Time:\n",
    "    def __init__(self,a,b):\n",
    "        self.h=a\n",
    "        self.m=b\n",
    "        \n",
    "def dur(t1,t2):\n",
    "    t3=Time(0,0)\n",
    "    m=t2.h*60+t2.m - t1.h*60+t1.m\n",
    "    t3.h=m//60\n",
    "    t3.m=m%60\n",
    "    return t3\n",
    "    \n",
    "print(\"enter start hours and minutes:\")\n",
    "a=int(input())\n",
    "b=int(input())\n",
    "t1=Time(a,b)\n",
    "print(\"enter end hours and minutes:\")\n",
    "c=int(input())\n",
    "d=int(input())\n",
    "t2=Time(c,d)\n",
    "t3=dur(t1,t2)\n",
    "print(t3.h,\" \",t3.m)"
   ]
  },
  {
   "cell_type": "code",
   "execution_count": null,
   "metadata": {},
   "outputs": [],
   "source": []
  }
 ],
 "metadata": {
  "kernelspec": {
   "display_name": "Python 3",
   "language": "python",
   "name": "python3"
  },
  "language_info": {
   "codemirror_mode": {
    "name": "ipython",
    "version": 3
   },
   "file_extension": ".py",
   "mimetype": "text/x-python",
   "name": "python",
   "nbconvert_exporter": "python",
   "pygments_lexer": "ipython3",
   "version": "3.7.3"
  }
 },
 "nbformat": 4,
 "nbformat_minor": 2
}
